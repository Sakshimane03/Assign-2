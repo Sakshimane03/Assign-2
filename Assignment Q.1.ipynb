{
 "cells": [
  {
   "cell_type": "markdown",
   "id": "1f8054d0",
   "metadata": {},
   "source": [
    "# `Write a Python Program To Get the Fibonacci Series Between 0 to 50.`"
   ]
  },
  {
   "cell_type": "code",
   "execution_count": 1,
   "id": "c10e9a5b",
   "metadata": {},
   "outputs": [
    {
     "name": "stdout",
     "output_type": "stream",
     "text": [
      "0 1 1 2 3 5 8 13 21 34 "
     ]
    }
   ],
   "source": [
    "p , q = 0, 1\n",
    "print(p, end=\" \")\n",
    "while q<50:\n",
    "    print(q, end = \" \")\n",
    "    p, q = q, p+q"
   ]
  },
  {
   "cell_type": "code",
   "execution_count": null,
   "id": "b2dee9db",
   "metadata": {},
   "outputs": [],
   "source": []
  }
 ],
 "metadata": {
  "kernelspec": {
   "display_name": "Python 3 (ipykernel)",
   "language": "python",
   "name": "python3"
  },
  "language_info": {
   "codemirror_mode": {
    "name": "ipython",
    "version": 3
   },
   "file_extension": ".py",
   "mimetype": "text/x-python",
   "name": "python",
   "nbconvert_exporter": "python",
   "pygments_lexer": "ipython3",
   "version": "3.10.1"
  }
 },
 "nbformat": 4,
 "nbformat_minor": 5
}
